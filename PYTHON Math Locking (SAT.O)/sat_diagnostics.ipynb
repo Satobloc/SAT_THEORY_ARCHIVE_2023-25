{
 "cells": [
  {
   "cell_type": "markdown",
   "id": "c13f51f9",
   "metadata": {},
   "source": [
    "# SAT Diagnostic Notebook\n",
    "\n",
    "This notebook computes and visualizes key emergent SAT observables:\n",
    "\n",
    "- Misalignment angle $\\theta_4(\\lambda)$\n",
    "- Topological barrier $\\alpha_{\\mathrm{top}}(x)$\n",
    "- Filament strain and geometric quantities\n",
    "\n",
    "All expressions follow from modules O1, O2, O5, O7, and O11."
   ]
  },
  {
   "cell_type": "code",
   "execution_count": null,
   "id": "991e3cc6",
   "metadata": {},
   "outputs": [],
   "source": [
    "from sat_bundle_tools import get_theta4_function, compute_alpha_top\n",
    "import numpy as np\n",
    "import matplotlib.pyplot as plt"
   ]
  },
  {
   "cell_type": "markdown",
   "id": "3dc14df0",
   "metadata": {},
   "source": [
    "## θ₄(λ) Evaluation\n",
    "Enter parameters for a single filament embedding and compute the misalignment angle $\\theta_4(\\lambda)$."
   ]
  },
  {
   "cell_type": "code",
   "execution_count": null,
   "id": "49cf471d",
   "metadata": {},
   "outputs": [],
   "source": [
    "# Filament + foliation parameters\n",
    "params = {\n",
    "    'Ax': 1.0, 'Ay': 1.2, 'Az': 1.5,\n",
    "    'kx': 2.0, 'ky': 1.5, 'kz': 1.0,\n",
    "    'phi_x': 0.0, 'phi_y': 0.5, 'phi_z': 1.0,\n",
    "    'u0': 0.0, 'u1': 0.0, 'u2': 0.0, 'u3': 1.0,\n",
    "}\n",
    "\n",
    "lam_vals = np.linspace(0, 2*np.pi, 300)\n",
    "theta4_func = get_theta4_function()\n",
    "theta_vals = theta4_func(\n",
    "    lam_vals,\n",
    "    params['Ax'], params['Ay'], params['Az'],\n",
    "    params['kx'], params['ky'], params['kz'],\n",
    "    params['phi_x'], params['phi_y'], params['phi_z'],\n",
    "    params['u0'], params['u1'], params['u2'], params['u3']\n",
    ")\n",
    "\n",
    "plt.plot(lam_vals, theta_vals)\n",
    "plt.title(r'Misalignment Angle $\\theta_4(\\lambda)$')\n",
    "plt.xlabel(r'$\\lambda$')\n",
    "plt.ylabel(r'$\\theta_4$ [rad]')\n",
    "plt.grid(True)\n",
    "plt.show()"
   ]
  },
  {
   "cell_type": "markdown",
   "id": "87660167",
   "metadata": {},
   "source": [
    "## α_top(λ) Evaluation\n",
    "Compute topological barrier $\\alpha_{\\mathrm{top}}$ based on θ₄(λ), strain, and linking."
   ]
  },
  {
   "cell_type": "code",
   "execution_count": null,
   "id": "9521eeec",
   "metadata": {},
   "outputs": [],
   "source": [
    "# Constants\n",
    "A = 1.0\n",
    "T = 1.0\n",
    "S = 0.5\n",
    "rho_link = 0.3\n",
    "\n",
    "alpha_vals = compute_alpha_top(theta_vals, lam_vals, A, T, S, rho_link)\n",
    "\n",
    "plt.plot(lam_vals, alpha_vals)\n",
    "plt.title(r'Topological Barrier $\\alpha_{\\mathrm{top}}(\\lambda)$')\n",
    "plt.xlabel(r'$\\lambda$')\n",
    "plt.ylabel(r'$\\alpha_{\\mathrm{top}}$')\n",
    "plt.grid(True)\n",
    "plt.show()"
   ]
  }
 ],
 "metadata": {},
 "nbformat": 4,
 "nbformat_minor": 5
}
